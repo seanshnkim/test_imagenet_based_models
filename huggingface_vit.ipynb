{
 "cells": [
  {
   "cell_type": "code",
   "execution_count": 1,
   "metadata": {},
   "outputs": [],
   "source": [
    "import os\n",
    "import torch\n",
    "import PIL\n",
    "\n",
    "from transformers import ViTImageProcessor, ViTForImageClassification"
   ]
  },
  {
   "cell_type": "code",
   "execution_count": 2,
   "metadata": {},
   "outputs": [],
   "source": [
    "pretrained_model = 'google/vit-base-patch16-224'\n",
    "model = ViTForImageClassification.from_pretrained(pretrained_model)\n",
    "processor = ViTImageProcessor.from_pretrained(pretrained_model)"
   ]
  },
  {
   "cell_type": "markdown",
   "metadata": {},
   "source": [
    "## Test (single image)\n",
    "- First, we are going to use 'os' module for a simple demonstration. However, dataloader is used in most cases."
   ]
  },
  {
   "cell_type": "code",
   "execution_count": 3,
   "metadata": {},
   "outputs": [
    {
     "ename": "NameError",
     "evalue": "name 'os' is not defined",
     "output_type": "error",
     "traceback": [
      "\u001b[0;31m---------------------------------------------------------------------------\u001b[0m",
      "\u001b[0;31mNameError\u001b[0m                                 Traceback (most recent call last)",
      "\u001b[1;32m/home/seankim/Documents/test_imagenet_based_models/huggingface_vit.ipynb Cell 4\u001b[0m line \u001b[0;36m3\n\u001b[1;32m      <a href='vscode-notebook-cell:/home/seankim/Documents/test_imagenet_based_models/huggingface_vit.ipynb#W5sZmlsZQ%3D%3D?line=0'>1</a>\u001b[0m sample_folder \u001b[39m=\u001b[39m \u001b[39m'\u001b[39m\u001b[39mimagenet/val/n04067472\u001b[39m\u001b[39m'\u001b[39m\n\u001b[0;32m----> <a href='vscode-notebook-cell:/home/seankim/Documents/test_imagenet_based_models/huggingface_vit.ipynb#W5sZmlsZQ%3D%3D?line=2'>3</a>\u001b[0m \u001b[39mfor\u001b[39;00m img \u001b[39min\u001b[39;00m os\u001b[39m.\u001b[39mlistdir(sample_folder):\n\u001b[1;32m      <a href='vscode-notebook-cell:/home/seankim/Documents/test_imagenet_based_models/huggingface_vit.ipynb#W5sZmlsZQ%3D%3D?line=3'>4</a>\u001b[0m     img_fpath \u001b[39m=\u001b[39m os\u001b[39m.\u001b[39mpath\u001b[39m.\u001b[39mjoin(sample_folder, img)\n\u001b[1;32m      <a href='vscode-notebook-cell:/home/seankim/Documents/test_imagenet_based_models/huggingface_vit.ipynb#W5sZmlsZQ%3D%3D?line=5'>6</a>\u001b[0m     image \u001b[39m=\u001b[39m processor(Image\u001b[39m.\u001b[39mopen(img_fpath)\u001b[39m.\u001b[39mconvert(\u001b[39m'\u001b[39m\u001b[39mRGB\u001b[39m\u001b[39m'\u001b[39m), return_tensors\u001b[39m=\u001b[39m\u001b[39m\"\u001b[39m\u001b[39mpt\u001b[39m\u001b[39m\"\u001b[39m)\n",
      "\u001b[0;31mNameError\u001b[0m: name 'os' is not defined"
     ]
    }
   ],
   "source": [
    "sample_folder = 'imagenet/val/n04067472'\n",
    "\n",
    "for img in os.listdir(sample_folder):\n",
    "    img_fpath = os.path.join(sample_folder, img)\n",
    "    \n",
    "    image = processor(Image.open(img_fpath).convert('RGB'), return_tensors=\"pt\")\n",
    "    \n",
    "    with torch.no_grad():\n",
    "        logits = model(**image).logits\n",
    "\n",
    "    # model predicts one of the 1000 ImageNet classes\n",
    "    predicted_label = logits.argmax(-1).item()\n",
    "    print(model.config.id2label[predicted_label])"
   ]
  },
  {
   "cell_type": "code",
   "execution_count": null,
   "metadata": {},
   "outputs": [],
   "source": [
    "from datasets import load_dataset\n",
    "\n",
    "# If the dataset is gated/private, make sure you have run huggingface-cli login\n",
    "dataset = load_dataset(\"imagenet-1k\")\n",
    "\n",
    "print(dataset)"
   ]
  },
  {
   "cell_type": "markdown",
   "metadata": {},
   "source": [
    "This will take some time, since it has to access the entire dataset (GB) \\\n",
    "For more explanation: https://huggingface.co/docs/datasets/about_mapstyle_vs_iterable\n",
    "\n"
   ]
  },
  {
   "cell_type": "code",
   "execution_count": null,
   "metadata": {},
   "outputs": [],
   "source": [
    "data_collator = DefaultDataCollator()\n",
    "# https://huggingface.co/docs/datasets/v2.15.0/en/package_reference/loading_methods#datasets.load_dataset\n",
    "dataset = load_dataset('imagefolder', data_dir=\"../msn_shoeprint_retrieval/imagenet\")"
   ]
  }
 ],
 "metadata": {
  "kernelspec": {
   "display_name": "base",
   "language": "python",
   "name": "python3"
  },
  "language_info": {
   "codemirror_mode": {
    "name": "ipython",
    "version": 3
   },
   "file_extension": ".py",
   "mimetype": "text/x-python",
   "name": "python",
   "nbconvert_exporter": "python",
   "pygments_lexer": "ipython3",
   "version": "3.10.9"
  }
 },
 "nbformat": 4,
 "nbformat_minor": 2
}
